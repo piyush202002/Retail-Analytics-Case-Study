{
  "nbformat": 4,
  "nbformat_minor": 0,
  "metadata": {
    "colab": {
      "provenance": [],
      "authorship_tag": "ABX9TyO0/spejNbGn/D71jORF9l+",
      "include_colab_link": true
    },
    "kernelspec": {
      "name": "python3",
      "display_name": "Python 3"
    },
    "language_info": {
      "name": "python"
    }
  },
  "cells": [
    {
      "cell_type": "markdown",
      "metadata": {
        "id": "view-in-github",
        "colab_type": "text"
      },
      "source": [
        "<a href=\"https://colab.research.google.com/github/piyush202002/Retail-Analytics-Case-Study/blob/main/Retail%20Analytics%20Case%20Study%20.ipynb\" target=\"_parent\"><img src=\"https://colab.research.google.com/assets/colab-badge.svg\" alt=\"Open In Colab\"/></a>"
      ]
    },
    {
      "cell_type": "markdown",
      "source": [
        "# Retail Analytics Case Study"
      ],
      "metadata": {
        "id": "wWzxESl7VteK"
      }
    },
    {
      "cell_type": "markdown",
      "source": [
        "Q1.Problem statement\n",
        "Write a query to identify the number of duplicates in \"sales_transaction\" table. Also, create a separate table containing the unique values and remove the the original table from the databases and replace the name of the new table with the original name.\n",
        "\n",
        "Hint:\n",
        "Use the “Sales_transaction” table.\n",
        "There will be two resulting tables in the output. First, the table where the count of duplicates will be identified and in the second table we can check if the duplicates were removed or not by selecting the whole table."
      ],
      "metadata": {
        "id": "ZGIHMwtDUVtQ"
      }
    },
    {
      "cell_type": "code",
      "source": [
        "select transactionID as TransactionID,count(*) from sales_transaction\n",
        "group by transactionID\n",
        "Having count(*)>1;\n",
        "CREATE TABLE sales_transaction_unique AS(\n",
        "SELECT DISTINCT *\n",
        "FROM sales_transaction);\n",
        "drop table sales_transaction;\n",
        "Alter table sales_transaction_unique\n",
        "Rename sales_transaction;\n",
        "select * from sales_transaction;\n"
      ],
      "metadata": {
        "id": "J7qMOWiwVZ3k"
      },
      "execution_count": null,
      "outputs": []
    },
    {
      "cell_type": "markdown",
      "source": [
        "Q2.Problem statement\n",
        "Write a query to identify the discrepancies in the price of the same product in \"sales_transaction\" and \"product_inventory\" tables. Also, update those discrepancies to match the price in both the tables.\n",
        "\n",
        "\n",
        "Hint:\n",
        "\n",
        "Use the \"sales_transaction\" and the \"product_inventory\" tables.\n",
        "There will be two resulting tables in the output. First, the table where the discrepancies will be identified and in the second table we can check if the discrepancies were updated or not.\n"
      ],
      "metadata": {
        "id": "Cc9T7pEqVbu4"
      }
    },
    {
      "cell_type": "code",
      "source": [
        "select sales_transaction.TransactionID,sales_transaction.price as TransactionPrice,product_inventory.price as InventoryPrice\n",
        "from sales_transaction\n",
        "inner join product_inventory\n",
        "on sales_transaction.productid=product_inventory.productid\n",
        "where sales_transaction.price!=product_inventory.price;\n",
        "update sales_transaction\n",
        "set Price='93.12'\n",
        "where Price='9312';\n",
        "select*from sales_transaction;"
      ],
      "metadata": {
        "id": "9Ori4VhuVlFt"
      },
      "execution_count": null,
      "outputs": []
    },
    {
      "cell_type": "markdown",
      "source": [
        "Q3.Problem statement\n",
        "Write a SQL query to identify the null values in the dataset and replace those by “Unknown”.\n",
        "\n",
        "\n",
        "Hint:\n",
        "\n",
        "Use the customer_profiles table.\n",
        "Identify the columns which contains null values and count the number of cells containing null values. Update those values with “unknown” and showcase the changes that the query has created."
      ],
      "metadata": {
        "id": "kZPcCpsBWdH7"
      }
    },
    {
      "cell_type": "code",
      "source": [
        "select count(*) from customer_profiles\n",
        "where location is null;\n",
        "update customer_profiles\n",
        "set location='Unknown'\n",
        "where location is null;\n",
        "select * from customer_profiles;"
      ],
      "metadata": {
        "id": "xekgUU4oWiQV"
      },
      "execution_count": null,
      "outputs": []
    },
    {
      "cell_type": "markdown",
      "source": [
        "Q4.Problem statement\n",
        "Write a SQL query to summarize the total sales and quantities sold per product by the company.\n",
        "\n",
        "\n",
        "(Here, the data has been already cleaned in the previous steps and from here we will be understanding the different types of data analysis from the given dataset.)\n",
        "\n",
        "Hint:\n",
        "\n",
        "Use the “Sales_transaction” table.\n",
        "The resulting table will display the total quantity purchased by the customers and the total sales done by the company to evaluate the product performance.\n",
        "Return the result table in descending order corresponding to Total Sales Column."
      ],
      "metadata": {
        "id": "EQEJPh_5Wnef"
      }
    },
    {
      "cell_type": "code",
      "source": [
        "select productID,sum(quantitypurchased)TotalUnitsSold,sum(quantitypurchased*price) as TotalSales\n",
        "from sales_transaction\n",
        "group by productId\n",
        "order by TotalSales desc;"
      ],
      "metadata": {
        "id": "qejBUjGtWxMZ"
      },
      "execution_count": null,
      "outputs": []
    },
    {
      "cell_type": "markdown",
      "source": [
        "Q5.Problem statement\n",
        "Write a SQL query to count the number of transactions per customer to understand purchase frequency.\n",
        "\n",
        "Hint:\n",
        "Use the “Sales_transaction” table.\n",
        "The resulting table will be counting the number of transactions corresponding to each customerID.\n",
        "Return the result table ordered by NumberOfTransactions in descending order."
      ],
      "metadata": {
        "id": "erxdGJssW0Xl"
      }
    },
    {
      "cell_type": "code",
      "source": [
        "SELECT customerid,\n",
        "       COUNT(*) AS NumberOfTransactions\n",
        "FROM sales_transaction\n",
        "GROUP BY customerid\n",
        "ORDER BY NumberOfTransactions DESC;\n"
      ],
      "metadata": {
        "id": "m4kNXDz9W43n"
      },
      "execution_count": null,
      "outputs": []
    },
    {
      "cell_type": "markdown",
      "source": [
        "Q6.Problem statement\n",
        "Write a SQL query to evaluate the performance of the product categories based on the total sales which help us understand the product categories which needs to be promoted in the marketing campaigns.\n",
        "\n",
        "\n",
        "Hint:\n",
        "\n",
        "Use the “Sales_transaction” and \"product_inventory\" table.\n",
        "The resulting table must display product categories, the aggregated count of units sold for each category, and the total sales value per category.\n",
        "Return the result table ordering by TotalSales in descending order."
      ],
      "metadata": {
        "id": "lEmH-4pjW8Nt"
      }
    },
    {
      "cell_type": "code",
      "source": [
        "select product_inventory.category as Category,sum(quantitypurchased)TotalUnitsSold,\n",
        "sum(sales_transaction.price*quantitypurchased)TotalSales from product_inventory\n",
        "inner join sales_transaction\n",
        "on product_inventory.productid=sales_transaction.productid\n",
        "group by product_inventory.category\n",
        "order by TotalSales desc;\n",
        "\n"
      ],
      "metadata": {
        "id": "jzf8AfSJXAcj"
      },
      "execution_count": null,
      "outputs": []
    },
    {
      "cell_type": "markdown",
      "source": [
        "Q7.Problem statement\n",
        "Write a SQL query to find the top 10 products with the highest total sales revenue from the sales transactions. This will help the company to identify the High sales products which needs to be focused to increase the revenue of the company.\n",
        "\n",
        "Hint:\n",
        "Use the “Sales_transaction” table.\n",
        "The resulting table should be limited to 10 productIDs whose TotalRevenue (Product of Price and QuantityPurchased) is the highest.\n",
        "Return the result table ordering by TotalRevenue in descending order."
      ],
      "metadata": {
        "id": "YpJj2qDfXGvh"
      }
    },
    {
      "cell_type": "code",
      "source": [
        "select productid,sum(quantitypurchased*price)as TotalRevenue from sales_transaction\n",
        "group by productid\n",
        "order by totalRevenue desc\n",
        "limit 10;"
      ],
      "metadata": {
        "id": "WUAhPhLeXLmS"
      },
      "execution_count": null,
      "outputs": []
    },
    {
      "cell_type": "markdown",
      "source": [
        "Q8.Problem statement\n",
        "Write a SQL query to find the ten products with the least amount of units sold from the sales transactions, provided that at least one unit was sold for those products.\n",
        "\n",
        "\n",
        "Hint:\n",
        "\n",
        "Use the “Sales_transaction” table.\n",
        "The resulting table should be limited to 10 productIDs whose TotalUnitsSold (sum of QuantityPurchased) is the least. (The limit value can be adjusted accordingly)\n",
        "Return the result table ordering by TotalUnitsSold in ascending order.\n"
      ],
      "metadata": {
        "id": "aZzINGFvXPLT"
      }
    },
    {
      "cell_type": "code",
      "source": [
        "select productid as Productid,sum(quantitypurchased)as TotalUnitsSold from sales_transaction\n",
        "group by productid\n",
        "having TotalUnitsSold>=1\n",
        "order by TotalUnitsSold\n",
        "limit 10;"
      ],
      "metadata": {
        "id": "KOtygCLoXTY7"
      },
      "execution_count": null,
      "outputs": []
    },
    {
      "cell_type": "markdown",
      "source": [
        "Q9.Problem statement\n",
        "Write a SQL query to identify the sales trend to understand the revenue pattern of the company.\n",
        "\n",
        "Hint:\n",
        "\n",
        "Use the “sales_transaction” table.\n",
        "The resulting table must have DATETRANS in date format, count the number of transaction on that particular date, total units sold and the total sales took place.\n",
        "Return the result table ordered by datetrans in descending order."
      ],
      "metadata": {
        "id": "zuDqWoq5XWP2"
      }
    },
    {
      "cell_type": "code",
      "source": [
        "select transactiondate as DATETRANS ,count(transactionid)Transaction_count,sum(quantitypurchased)TotalUnitsSold,\n",
        "sum(quantitypurchased*price)as TotalSales from sales_transaction\n",
        "group by DATETRANS\n",
        "order by DATETRANS  desc;\n"
      ],
      "metadata": {
        "id": "P33D4IoOXbJh"
      },
      "execution_count": null,
      "outputs": []
    },
    {
      "cell_type": "markdown",
      "source": [
        "Q10.Problem statement\n",
        "Write a SQL query to understand the month on month growth rate of sales of the company which will help understand the growth trend of the company.\n",
        "\n",
        "Hint:\n",
        "\n",
        "Use the “sales_transaction” table.\n",
        "The resulting table must extract the month from the transactiondate and then the Month on month growth percentange should be calculated. (Total sales present month - total sales previous month/ total sales previous month * 100)\n",
        "Return the result table ordering by month."
      ],
      "metadata": {
        "id": "00lltWn7XeEk"
      }
    },
    {
      "cell_type": "code",
      "source": [
        "with cte1 as(\n",
        "select extract(month from transactiondate) as month,sum(quantitypurchased*price) as total_sales,\n",
        "lag(sum(quantitypurchased*price),1) over(order by extract(month from transactiondate)) as previous_month_sales\n",
        "from sales_transaction\n",
        "group by month\n",
        "order by month\n",
        ")\n",
        "select *,((total_sales-previous_month_sales) /previous_month_sales)*100 as\n",
        "mom_growth_percentage\n",
        "from cte1;\n",
        "\n"
      ],
      "metadata": {
        "id": "fXhVBfPiXpJ3"
      },
      "execution_count": null,
      "outputs": []
    },
    {
      "cell_type": "markdown",
      "source": [
        "Q11.Problem statement\n",
        "Write a SQL query that describes the number of transaction along with the total amount spent by each customer which are on the higher side and will help us understand the customers who are the high frequency purchase customers in the company.\n",
        "\n",
        "Hint:\n",
        "\n",
        "Use the “sales_transaction” table.\n",
        "The resulting table must have number of transactions more than 10 and TotalSpent more than 1000 on those transactions by the corresponding customers.\n",
        "Return the result table on the “TotalSpent” in descending order."
      ],
      "metadata": {
        "id": "9edGnj-TXto5"
      }
    },
    {
      "cell_type": "code",
      "source": [
        "with cte as(\n",
        "select customerid as CustomerID,count(transactionid)NumberofTransactions,\n",
        "sum(quantitypurchased*price)as TotalSpent from sales_transaction\n",
        "group by customerid\n",
        ")\n",
        "select CustomerID, NumberofTransactions,TotalSpent from cte\n",
        "where NumberofTransactions>10 and TotalSpent>1000\n",
        "order by  totalspent desc;"
      ],
      "metadata": {
        "id": "pkywumITXx4f"
      },
      "execution_count": null,
      "outputs": []
    },
    {
      "cell_type": "markdown",
      "source": [
        "Q12.Problem statement\n",
        "Write a SQL query that describes the number of transaction along with the total amount spent by each customer, which will help us understand the customers who are occasional customers or have low purchase frequency in the company.\n",
        "\n",
        "Hint:\n",
        "\n",
        "Use the “Sales_transaction” table.\n",
        "The resulting table must have number of transactions less than or equal to 2 and corresponding total amount spent on those transactions by related customers.\n",
        "Return the result table of “NumberOfTransactions” in ascending order and “TotalSpent” in descending order."
      ],
      "metadata": {
        "id": "VKvEB_PGX3eo"
      }
    },
    {
      "cell_type": "code",
      "source": [
        "select customerid as CustomerID,count(transactionid)NumberOfTransactions, sum(quantitypurchased*price)TotalSpent from sales_transaction\n",
        "group by customerid\n",
        "having NumberOfTransactions<=2\n",
        "order by NumberOfTransactions ,TotalSpent desc"
      ],
      "metadata": {
        "id": "0FeMUqN2X8bb"
      },
      "execution_count": null,
      "outputs": []
    },
    {
      "cell_type": "markdown",
      "source": [
        "Q13.Problem statement\n",
        "Write a SQL query that describes the total number of purchases made by each customer against each productID to understand the repeat customers in the company.\n",
        "\n",
        "\n",
        "Hint:\n",
        "\n",
        "Use the “Sales_transaction” table.\n",
        "The resulting table must have \"CustomerID\", \"ProductID\" and the number of times that particular customer have purchases the product.\n",
        "The number of times the customer has purchased should be more than once.\n",
        "Return the result table in descending order corresponding to the TimesPurchased column."
      ],
      "metadata": {
        "id": "IThfWC-TX_N3"
      }
    },
    {
      "cell_type": "code",
      "source": [
        "select customerid as CustomerId,productid as ProductID, count(transactionid)TimesPurchased from sales_transaction\n",
        "group by customerid,productid\n",
        "having TimesPurchased>1\n",
        "order by TimesPurchased desc;"
      ],
      "metadata": {
        "id": "L0SeSAwWYCfg"
      },
      "execution_count": null,
      "outputs": []
    },
    {
      "cell_type": "markdown",
      "source": [
        "Q14.Problem statement\n",
        "Write a SQL query that describes the duration between the first and the last purchase of the customer in that particular company to understand the loyalty of the customer.\n",
        "\n",
        "Hints:\n",
        "Use the \"Sales_transaction\" table.\n",
        "The DATE column will be majorly in use in the question and the TransactionDate column in Sales_transaction is in text format. Thus, the format of the TransactionDate column should be changed.\n",
        "The resulting table must have the first date of purchase, the last date of purchase and the difference between the first and the last date of purchase.\n",
        "The difference between the first and the last date of purchase should be more than 0.\n",
        "Return the table in descending order corresponding to DaysBetweenPurchases."
      ],
      "metadata": {
        "id": "HSRv5y-nYFHz"
      }
    },
    {
      "cell_type": "code",
      "source": [
        "select customerid as CustomerID,min(transactiondate)FirstPurchase,max(transactiondate)LastPurchase,\n",
        "datediff(max(transactiondate),min(transactiondate))DaysBetweenPurchases from sales_transaction\n",
        "group by customerid\n",
        "having DaysBetweenPurchases>0\n",
        "order by DaysBetweenPurchases desc;"
      ],
      "metadata": {
        "id": "A6qRImDCYKN-"
      },
      "execution_count": null,
      "outputs": []
    }
  ]
}